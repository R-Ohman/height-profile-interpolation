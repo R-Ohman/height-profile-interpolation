{
 "cells": [
  {
   "cell_type": "code",
   "execution_count": null,
   "metadata": {},
   "outputs": [],
   "source": [
    "%reset -f\n",
    "import matplotlib.pyplot as plt\n",
    "from algorithms import *\n",
    "from typing import List, Tuple, Callable\n",
    "from pathlib import Path\n",
    "import os"
   ]
  },
  {
   "cell_type": "code",
   "execution_count": null,
   "outputs": [],
   "source": [
    "NUMBERS_OF_SELECTION_POINTS = [7, 13, 23, 31, 47, 103]\n",
    "# DATASETS = ['chelm.txt', 'GlebiaChallengera.csv', '100.csv']\n",
    "DATASETS = os.listdir('../data')"
   ],
   "metadata": {
    "collapsed": false
   }
  },
  {
   "cell_type": "code",
   "execution_count": null,
   "metadata": {},
   "outputs": [],
   "source": [
    "def plot_interpolation(\n",
    "        handler: any,\n",
    "        data: List[Tuple[float, float]],\n",
    "        selection_points_strategy: Callable[[float, float, int], List[float]],\n",
    "        selection_points: int,\n",
    "        interpolation_method: Callable[[List[Tuple[float, float]], List[float]], List[float]],\n",
    "        title: str\n",
    "    ) -> None:\n",
    "    selected_points = get_selection_points(data, selection_points_strategy, selection_points)\n",
    "    # x_points = get_linspace_points(data, 512)\n",
    "    x_points = get_x_values(data)\n",
    "    y_points = interpolation_method(selected_points, x_points)\n",
    "\n",
    "    handler.scatter(get_x_values(selected_points), get_y_values(selected_points), color='red', s=10)\n",
    "    handler.plot(x_points, get_y_values(data), color='green')\n",
    "    handler.plot(x_points, y_points, color='blue')\n",
    "\n",
    "    handler.title.set_text(title)\n",
    "    handler.set_yscale('symlog')\n",
    "    handler.legend(['Original function', 'Interpolated function', 'Selection points'])\n",
    "    handler.set_xlabel('Distance, m')\n",
    "    handler.set_ylabel('Height, m')"
   ]
  },
  {
   "cell_type": "code",
   "execution_count": null,
   "outputs": [],
   "source": [
    "for dataset in DATASETS:\n",
    "    nodes = read_nodes(\"../data/\" + dataset)\n",
    "    data_name = dataset.replace(\".csv\", \"\").replace(\".txt\", \"\")\n",
    "    Path(f'../plots/{data_name}/').mkdir(parents=True, exist_ok=True)\n",
    "\n",
    "    # original\n",
    "    fig, ax = plt.subplots()\n",
    "    fig.set_size_inches(20, 5)\n",
    "    ax.plot(get_x_values(nodes), get_y_values(nodes), color='green')\n",
    "    ax.set_yscale('symlog')\n",
    "    ax.set_title(f'{dataset} - Original function')\n",
    "    ax.set_xlabel('Distance, m')\n",
    "    ax.set_ylabel('Height, m')\n",
    "    fig.savefig(f'../plots/{data_name}/original.png')\n",
    "\n",
    "    # linspace nodes\n",
    "    fig, axs = plt.subplots(3, 2)\n",
    "    fig.set_size_inches(20, 15)\n",
    "    fig.suptitle(f'{dataset} - Lagrange interpolation with linearly spaced nodes')\n",
    "    for i in range(len(NUMBERS_OF_SELECTION_POINTS)):\n",
    "        plot_interpolation(axs[i//2, i%2], nodes, linspace, NUMBERS_OF_SELECTION_POINTS[i], lagrange_interpolation, f'{NUMBERS_OF_SELECTION_POINTS[i]} selection points')\n",
    "    fig.savefig(f'../plots/{data_name}/linspace_nodes.png')\n",
    "\n",
    "    # Chebyshev nodes\n",
    "    fig, axs = plt.subplots(3, 2)\n",
    "    fig.set_size_inches(20, 15)\n",
    "    fig.suptitle(f'{dataset} - Lagrange interpolation with Chebyshev nodes')\n",
    "    for i in range(len(NUMBERS_OF_SELECTION_POINTS)):\n",
    "        plot_interpolation(axs[i//2, i%2], nodes, get_chebyshev_nodes, NUMBERS_OF_SELECTION_POINTS[i], lagrange_interpolation, f'{NUMBERS_OF_SELECTION_POINTS[i]} selection points')\n",
    "    fig.savefig(f'../plots/{data_name}/chebyshev_nodes.png')\n",
    "\n",
    "    # Cubic spline\n",
    "    fig, axs = plt.subplots(3, 2)\n",
    "    fig.set_size_inches(20, 15)\n",
    "    fig.suptitle(f'{dataset} - Cubic spline interpolation')\n",
    "    for i in range(len(NUMBERS_OF_SELECTION_POINTS)):\n",
    "        plot_interpolation(axs[i//2, i%2], nodes, linspace, NUMBERS_OF_SELECTION_POINTS[i], cubic_spline_interpolation, f'{NUMBERS_OF_SELECTION_POINTS[i]} selection points')\n",
    "    fig.savefig(f'../plots/{data_name}/cubic_spline.png')"
   ],
   "metadata": {
    "collapsed": false
   }
  }
 ],
 "metadata": {
  "kernelspec": {
   "display_name": ".venv",
   "language": "python",
   "name": "python3"
  },
  "language_info": {
   "codemirror_mode": {
    "name": "ipython",
    "version": 3
   },
   "file_extension": ".py",
   "mimetype": "text/x-python",
   "name": "python",
   "nbconvert_exporter": "python",
   "pygments_lexer": "ipython3",
   "version": "3.12.1"
  }
 },
 "nbformat": 4,
 "nbformat_minor": 2
}
