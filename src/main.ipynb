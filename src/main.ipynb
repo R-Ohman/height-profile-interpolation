{
 "cells": [
  {
   "cell_type": "code",
   "execution_count": null,
   "metadata": {},
   "outputs": [],
   "source": [
    "%reset -f\n",
    "import matplotlib.pyplot as plt\n",
    "from algorithms import *\n",
    "from typing import Callable\n",
    "from pathlib import Path\n",
    "import os"
   ]
  },
  {
   "cell_type": "markdown",
   "source": [
    "Define different numbers of selection points and datasets to interpolate"
   ],
   "metadata": {
    "collapsed": false
   }
  },
  {
   "cell_type": "code",
   "execution_count": null,
   "outputs": [],
   "source": [
    "NUMBERS_OF_SELECTION_POINTS = [7, 13, 23, 31, 47, 103]\n",
    "DATASETS = os.listdir('../data')"
   ],
   "metadata": {
    "collapsed": false
   }
  },
  {
   "cell_type": "markdown",
   "source": [
    "Define plotting function that interpolates data and plots it"
   ],
   "metadata": {
    "collapsed": false
   }
  },
  {
   "cell_type": "code",
   "execution_count": null,
   "metadata": {},
   "outputs": [],
   "source": [
    "def plot_interpolation(\n",
    "        handler: any,\n",
    "        data: list[tuple[float, float]],\n",
    "        select_strategy: Callable[[float, float, int], list[float]],\n",
    "        select_points_number: int,\n",
    "        interpolation_method: Callable[[list[tuple[float, float]], list[float]], list[float]],\n",
    "        title: str\n",
    "    ) -> None:\n",
    "    interpolation_nodes = select_points_by_strategy(data, select_strategy, select_points_number)\n",
    "    x_data = get_x_values(data)\n",
    "    y_interpolated = interpolation_method(interpolation_nodes, x_data)\n",
    "\n",
    "    handler.scatter(get_x_values(interpolation_nodes), get_y_values(interpolation_nodes), color='red', s=10)\n",
    "    handler.plot(x_data, get_y_values(data), color='blue')\n",
    "    handler.plot(x_data, y_interpolated, color='orange')\n",
    "\n",
    "    handler.title.set_text(title)\n",
    "    handler.set_xlabel('Distance, m')\n",
    "    handler.set_ylabel('Height, m')\n",
    "    handler.legend(['Selection points', 'Original function', 'Interpolated function'])\n",
    "    handler.set_yscale('symlog')"
   ]
  },
  {
   "cell_type": "markdown",
   "source": [
    "Plot interpolation results for each dataset and each interpolation method"
   ],
   "metadata": {
    "collapsed": false
   }
  },
  {
   "cell_type": "code",
   "execution_count": null,
   "outputs": [],
   "source": [
    "for dataset in DATASETS:\n",
    "    nodes = read_data(\"../data/\" + dataset)\n",
    "    data_name = dataset.replace(\".csv\", \"\").replace(\".txt\", \"\")\n",
    "    Path(f'../plots/{data_name}/').mkdir(parents=True, exist_ok=True)\n",
    "\n",
    "    # Original function\n",
    "    fig, ax = plt.subplots()\n",
    "    fig.set_size_inches(20, 6)\n",
    "    ax.set_title(f'{dataset} - Original function')\n",
    "    ax.set_xlabel('Distance, m')\n",
    "    ax.set_ylabel('Height, m')\n",
    "    ax.plot(get_x_values(nodes), get_y_values(nodes))\n",
    "    ax.set_yscale('symlog')\n",
    "    fig.savefig(f'../docs/plots/{data_name}/original.png')\n",
    "\n",
    "    # Linearly spaced nodes\n",
    "    fig, axs = plt.subplots(3, 2)\n",
    "    fig.set_size_inches(20, 18)\n",
    "    fig.suptitle(f'{dataset} - Lagrange interpolation with linearly spaced nodes')\n",
    "    for i in range(len(NUMBERS_OF_SELECTION_POINTS)):\n",
    "        row, col = i//2, i%2\n",
    "        plot_interpolation(axs[row, col], nodes, linspace, NUMBERS_OF_SELECTION_POINTS[i], lagrange_interpolation, f'{NUMBERS_OF_SELECTION_POINTS[i]} selection points')\n",
    "    fig.savefig(f'../docs/plots/{data_name}/linspace_nodes.png')\n",
    "\n",
    "    # Chebyshev nodes\n",
    "    fig, axs = plt.subplots(3, 2)\n",
    "    fig.set_size_inches(20, 18)\n",
    "    fig.suptitle(f'{dataset} - Lagrange interpolation with Chebyshev nodes')\n",
    "    for i in range(len(NUMBERS_OF_SELECTION_POINTS)):\n",
    "        row, col = i//2, i%2\n",
    "        plot_interpolation(axs[row, col], nodes, get_chebyshev_nodes, NUMBERS_OF_SELECTION_POINTS[i], lagrange_interpolation, f'{NUMBERS_OF_SELECTION_POINTS[i]} selection points')\n",
    "    fig.savefig(f'../docs/plots/{data_name}/chebyshev_nodes.png')\n",
    "\n",
    "    # Cubic spline interpolation\n",
    "    fig, axs = plt.subplots(3, 2)\n",
    "    fig.set_size_inches(20, 18)\n",
    "    fig.suptitle(f'{dataset} - Cubic spline interpolation')\n",
    "    for i in range(len(NUMBERS_OF_SELECTION_POINTS)):\n",
    "        row, col = i//2, i%2\n",
    "        plot_interpolation(axs[row, col], nodes, linspace, NUMBERS_OF_SELECTION_POINTS[i], cubic_spline_interpolation, f'{NUMBERS_OF_SELECTION_POINTS[i]} selection points')\n",
    "    fig.savefig(f'../docs/plots/{data_name}/cubic_spline.png')"
   ],
   "metadata": {
    "collapsed": false
   }
  }
 ],
 "metadata": {
  "kernelspec": {
   "display_name": ".venv",
   "language": "python",
   "name": "python3"
  },
  "language_info": {
   "codemirror_mode": {
    "name": "ipython",
    "version": 3
   },
   "file_extension": ".py",
   "mimetype": "text/x-python",
   "name": "python",
   "nbconvert_exporter": "python",
   "pygments_lexer": "ipython3",
   "version": "3.12.1"
  }
 },
 "nbformat": 4,
 "nbformat_minor": 2
}
